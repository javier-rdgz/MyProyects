{
 "cells": [
  {
   "cell_type": "markdown",
   "id": "de542604-ce2c-4ce5-8de1-5b1d654c008d",
   "metadata": {},
   "source": [
    "### *Imports necesarios para el desarrollo del proyecto*"
   ]
  },
  {
   "cell_type": "code",
   "execution_count": 1,
   "id": "639c4177-5895-427a-a626-e6345abb029d",
   "metadata": {},
   "outputs": [],
   "source": [
    "import io\n",
    "import joblib\n",
    "import numpy as np\n",
    "import pandas as pd\n",
    "from PIL import Image\n",
    "import tensorflow as tf\n",
    "from flask import Flask, request, jsonify\n",
    "from keras.models import load_model\n",
    "from keras.layers import InputLayer\n",
    "from keras.utils import load_img, img_to_array"
   ]
  },
  {
   "cell_type": "code",
   "execution_count": 2,
   "id": "e2300c14-c2df-4498-94d8-8449dd362da1",
   "metadata": {},
   "outputs": [],
   "source": [
    "model = load_model('cnn_model.keras')"
   ]
  },
  {
   "cell_type": "markdown",
   "id": "80819474-bd6b-4beb-838f-2288414fd3e2",
   "metadata": {},
   "source": [
    "### *Creación de las funciones necesarias*"
   ]
  },
  {
   "cell_type": "code",
   "execution_count": 3,
   "id": "c2684e7c-6456-422c-b5ff-919a99fd3d1d",
   "metadata": {},
   "outputs": [],
   "source": [
    "class RGBError(ValueError):  #Error personalizado para indicar que la imagen no esta en modo RGB\n",
    "    def __init__(self, message='The image have to be in RGB mode. Please modificate it and try to send it again.'):\n",
    "        self.message = message\n",
    "        super().__init__(self.message)\n",
    "\n",
    "\n",
    "def preprocess_img(img_file, size=224):  # Función para la carga y procesado de las imágenes\n",
    "\n",
    "    if hasattr(img_file, 'read'):\n",
    "        img_bytes = img_file.read()\n",
    "        img_file = io.BytesIO(img_bytes)\n",
    "    \n",
    "    img = load_img(img_file, target_size=(size, size))\n",
    "\n",
    "    img_array = img_to_array(img)\n",
    "\n",
    "    if img_array.shape[-1] != 3:\n",
    "        raise RGBError()\n",
    "    \n",
    "    img_norm = img_array.astype(np.float32)/255.0\n",
    "    img_expanded = np.expand_dims(img_norm, axis=0)\n",
    "    \n",
    "    return img_expanded"
   ]
  },
  {
   "cell_type": "markdown",
   "id": "1f733e51-efb5-4ffa-a773-633c22ef1d6a",
   "metadata": {},
   "source": [
    "### *Creación de la API*"
   ]
  },
  {
   "cell_type": "code",
   "execution_count": 4,
   "id": "5593be05-fe0e-423e-8094-443837dc55e4",
   "metadata": {},
   "outputs": [],
   "source": [
    "app = Flask(__name__)\n",
    "\n",
    "@app.route('/predict', methods=['POST'])\n",
    "def predict():\n",
    "    if 'image' not in request.files:\n",
    "        return jsonify({'error': 'No image was found in your request.'}), 400\n",
    "\n",
    "    file = request.files['image']\n",
    "    \n",
    "    if file.filename == '':\n",
    "        return jsonify({'error': 'No file was selected.'}), 400\n",
    "\n",
    "    try:        \n",
    "        prep_img = preprocess_img(file)\n",
    "\n",
    "        pred = tf.argmax(model.predict(prep_img), axis=-1)\n",
    "\n",
    "        response = {'prediction': int(pred)}\n",
    "        return jsonify(response)\n",
    "\n",
    "    except RGBError as e:\n",
    "        return jsonify({'error': str(e)}), 400\n",
    "        \n",
    "    except Exception as e:\n",
    "        return jsonify({'error': f'Internal server error: {str(e)}'}), 500"
   ]
  },
  {
   "cell_type": "code",
   "execution_count": 5,
   "id": "c449b1cd-6d98-4741-852c-1b680600d92e",
   "metadata": {},
   "outputs": [
    {
     "name": "stdout",
     "output_type": "stream",
     "text": [
      " * Serving Flask app '__main__'\n",
      " * Debug mode: on\n"
     ]
    },
    {
     "name": "stderr",
     "output_type": "stream",
     "text": [
      "WARNING: This is a development server. Do not use it in a production deployment. Use a production WSGI server instead.\n",
      " * Running on http://127.0.0.1:5000\n",
      "Press CTRL+C to quit\n"
     ]
    },
    {
     "name": "stdout",
     "output_type": "stream",
     "text": [
      "\u001b[1m1/1\u001b[0m \u001b[32m━━━━━━━━━━━━━━━━━━━━\u001b[0m\u001b[37m\u001b[0m \u001b[1m5s\u001b[0m 5s/step\n"
     ]
    },
    {
     "name": "stderr",
     "output_type": "stream",
     "text": [
      "127.0.0.1 - - [09/Aug/2025 20:04:56] \"POST /predict HTTP/1.1\" 200 -\n"
     ]
    },
    {
     "name": "stdout",
     "output_type": "stream",
     "text": [
      "\u001b[1m1/1\u001b[0m \u001b[32m━━━━━━━━━━━━━━━━━━━━\u001b[0m\u001b[37m\u001b[0m \u001b[1m0s\u001b[0m 262ms/step\n"
     ]
    },
    {
     "name": "stderr",
     "output_type": "stream",
     "text": [
      "127.0.0.1 - - [09/Aug/2025 20:04:57] \"POST /predict HTTP/1.1\" 200 -\n"
     ]
    },
    {
     "name": "stdout",
     "output_type": "stream",
     "text": [
      "\u001b[1m1/1\u001b[0m \u001b[32m━━━━━━━━━━━━━━━━━━━━\u001b[0m\u001b[37m\u001b[0m \u001b[1m0s\u001b[0m 236ms/step\n"
     ]
    },
    {
     "name": "stderr",
     "output_type": "stream",
     "text": [
      "127.0.0.1 - - [09/Aug/2025 20:04:57] \"POST /predict HTTP/1.1\" 200 -\n"
     ]
    },
    {
     "name": "stdout",
     "output_type": "stream",
     "text": [
      "\u001b[1m1/1\u001b[0m \u001b[32m━━━━━━━━━━━━━━━━━━━━\u001b[0m\u001b[37m\u001b[0m \u001b[1m0s\u001b[0m 200ms/step\n"
     ]
    },
    {
     "name": "stderr",
     "output_type": "stream",
     "text": [
      "127.0.0.1 - - [09/Aug/2025 20:04:58] \"POST /predict HTTP/1.1\" 200 -\n"
     ]
    },
    {
     "name": "stdout",
     "output_type": "stream",
     "text": [
      "\u001b[1m1/1\u001b[0m \u001b[32m━━━━━━━━━━━━━━━━━━━━\u001b[0m\u001b[37m\u001b[0m \u001b[1m0s\u001b[0m 267ms/step\n"
     ]
    },
    {
     "name": "stderr",
     "output_type": "stream",
     "text": [
      "127.0.0.1 - - [09/Aug/2025 20:04:58] \"POST /predict HTTP/1.1\" 200 -\n"
     ]
    },
    {
     "name": "stdout",
     "output_type": "stream",
     "text": [
      "\u001b[1m1/1\u001b[0m \u001b[32m━━━━━━━━━━━━━━━━━━━━\u001b[0m\u001b[37m\u001b[0m \u001b[1m0s\u001b[0m 234ms/step\n"
     ]
    },
    {
     "name": "stderr",
     "output_type": "stream",
     "text": [
      "127.0.0.1 - - [09/Aug/2025 20:04:58] \"POST /predict HTTP/1.1\" 200 -\n"
     ]
    }
   ],
   "source": [
    "if __name__ == '__main__':\n",
    "    app.run(debug=True, use_reloader=False)"
   ]
  }
 ],
 "metadata": {
  "kernelspec": {
   "display_name": "Python 3.11",
   "language": "python",
   "name": "py311"
  },
  "language_info": {
   "codemirror_mode": {
    "name": "ipython",
    "version": 3
   },
   "file_extension": ".py",
   "mimetype": "text/x-python",
   "name": "python",
   "nbconvert_exporter": "python",
   "pygments_lexer": "ipython3",
   "version": "3.11.7"
  }
 },
 "nbformat": 4,
 "nbformat_minor": 5
}
